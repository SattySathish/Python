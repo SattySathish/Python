{
 "cells": [
  {
   "cell_type": "code",
   "execution_count": 1,
   "metadata": {},
   "outputs": [],
   "source": [
    "import pandas as pd\n",
    "import numpy as np\n",
    "import torch\n",
    "from sklearn.preprocessing import StandardScaler"
   ]
  },
  {
   "cell_type": "code",
   "execution_count": 2,
   "metadata": {},
   "outputs": [],
   "source": [
    "dataset = pd.read_csv(\"C:/Users/Admin/Desktop/Coding/Tensorflow/Carprice.csv\")\n",
    "dataset = dataset.drop([\"car_ID\",\"CarName\"], axis=1).dropna()\n",
    "dataset[\"price\"] = dataset[\"price\"]/10000\n",
    "label = dataset[\"price\"]\n",
    "feature = dataset.drop(\"price\",axis=1)\n",
    "feature = pd.get_dummies(feature)\n"
   ]
  },
  {
   "cell_type": "code",
   "execution_count": 3,
   "metadata": {},
   "outputs": [
    {
     "name": "stderr",
     "output_type": "stream",
     "text": [
      "C:\\Users\\Admin\\AppData\\Local\\Temp\\ipykernel_7948\\1505966717.py:4: UserWarning: Failed to initialize NumPy: module compiled against API version 0x10 but this version of numpy is 0xf (Triggered internally at  ..\\torch\\csrc\\utils\\tensor_numpy.cpp:68.)\n",
      "  features = torch.tensor(features, dtype = torch.float32)\n"
     ]
    }
   ],
   "source": [
    "features = np.array(feature)\n",
    "labels = np.array(label).reshape(-1,1)\n",
    "features = StandardScaler().fit_transform(features)\n",
    "features = torch.tensor(features, dtype = torch.float32)\n",
    "labels = torch.tensor(labels,dtype = torch.float32)"
   ]
  },
  {
   "cell_type": "code",
   "execution_count": 4,
   "metadata": {},
   "outputs": [],
   "source": [
    "model = torch.nn.Linear(52,1)\n",
    "preds=model(features)\n"
   ]
  },
  {
   "cell_type": "code",
   "execution_count": 5,
   "metadata": {},
   "outputs": [
    {
     "name": "stdout",
     "output_type": "stream",
     "text": [
      "tensor(3.0648, grad_fn=<MseLossBackward0>)\n",
      "tensor([[ 0.8889, -1.4590, -1.3470, -1.2740, -1.1729, -1.3048, -0.9809, -0.6236,\n",
      "         -0.3129, -0.8586, -0.3857,  0.9050,  0.5402,  0.6960, -0.9587,  0.9587,\n",
      "          0.4945, -0.4945, -0.8847,  0.8847, -0.2014,  0.0787,  0.9278, -0.4746,\n",
      "         -0.5635, -0.1576,  0.7931, -0.7421, -0.2735,  0.2735,  0.1576,  0.1380,\n",
      "         -0.4394, -0.0229,  0.3470, -0.2659,  0.2982, -0.5848, -0.8006,  0.6408,\n",
      "         -0.1186,  0.0324, -0.0297,  0.2982,  0.2127,  0.5870,  0.2868, -0.9587,\n",
      "          0.1964, -0.3237,  0.3369,  0.0918]])\n",
      "tensor([-2.9142])\n"
     ]
    }
   ],
   "source": [
    "from torch.nn.functional import mse_loss\n",
    "\n",
    "loss  = mse_loss(preds, labels)\n",
    "print(loss)\n",
    "\n",
    "loss.backward()\n",
    "\n",
    "print(model.weight.grad)\n",
    "print(model.bias.grad)"
   ]
  },
  {
   "cell_type": "code",
   "execution_count": 6,
   "metadata": {},
   "outputs": [
    {
     "name": "stdout",
     "output_type": "stream",
     "text": [
      "tensor(3.0328, grad_fn=<MseLossBackward0>)\n"
     ]
    }
   ],
   "source": [
    "optimizer = torch.optim.SGD(model.parameters(), lr=1e-3)\n",
    "\n",
    "optimizer.step()\n",
    "optimizer.zero_grad()\n",
    "\n",
    "preds = model(features)\n",
    "loss = mse_loss(preds, labels)\n",
    "print(loss)"
   ]
  },
  {
   "cell_type": "code",
   "execution_count": 7,
   "metadata": {},
   "outputs": [
    {
     "name": "stdout",
     "output_type": "stream",
     "text": [
      "tensor(0.1037, grad_fn=<MseLossBackward0>)\n",
      "tensor(0.0507, grad_fn=<MseLossBackward0>)\n",
      "tensor(0.0455, grad_fn=<MseLossBackward0>)\n",
      "tensor(0.0435, grad_fn=<MseLossBackward0>)\n",
      "tensor(0.0425, grad_fn=<MseLossBackward0>)\n",
      "tensor(0.0418, grad_fn=<MseLossBackward0>)\n",
      "tensor(0.0414, grad_fn=<MseLossBackward0>)\n",
      "tensor(0.0411, grad_fn=<MseLossBackward0>)\n",
      "tensor(0.0408, grad_fn=<MseLossBackward0>)\n",
      "tensor(0.0406, grad_fn=<MseLossBackward0>)\n",
      "tensor(0.0404, grad_fn=<MseLossBackward0>)\n",
      "tensor(0.0402, grad_fn=<MseLossBackward0>)\n",
      "tensor(0.0401, grad_fn=<MseLossBackward0>)\n",
      "tensor(0.0400, grad_fn=<MseLossBackward0>)\n",
      "tensor(0.0399, grad_fn=<MseLossBackward0>)\n"
     ]
    }
   ],
   "source": [
    "epochs = 15000\n",
    "for epoch in range(epochs):\n",
    "    preds = model(features)\n",
    "    loss = mse_loss(preds, labels)\n",
    "    \n",
    "    if (epoch+1)%1000 == 0:\n",
    "        print(loss)\n",
    "\n",
    "    loss.backward()\n",
    "    \n",
    "    optimizer.step()\n",
    "    optimizer.zero_grad()\n"
   ]
  },
  {
   "cell_type": "code",
   "execution_count": 12,
   "metadata": {},
   "outputs": [
    {
     "name": "stdout",
     "output_type": "stream",
     "text": [
      "tensor([10371.4805], grad_fn=<MulBackward0>) tensor([9279.])\n"
     ]
    }
   ],
   "source": [
    "x = 87\n",
    "preds = model(features[x])\n",
    "print(preds*10000,labels[x]*10000)"
   ]
  }
 ],
 "metadata": {
  "kernelspec": {
   "display_name": "Python 3.10.4 64-bit",
   "language": "python",
   "name": "python3"
  },
  "language_info": {
   "codemirror_mode": {
    "name": "ipython",
    "version": 3
   },
   "file_extension": ".py",
   "mimetype": "text/x-python",
   "name": "python",
   "nbconvert_exporter": "python",
   "pygments_lexer": "ipython3",
   "version": "3.10.4"
  },
  "orig_nbformat": 4,
  "vscode": {
   "interpreter": {
    "hash": "a42ccb73e7d9bfdf27e036f1d2b8b681e55fc0743cc5586bc2474d4a60f4b886"
   }
  }
 },
 "nbformat": 4,
 "nbformat_minor": 2
}
