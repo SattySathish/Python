{
 "cells": [
  {
   "cell_type": "markdown",
   "metadata": {},
   "source": [
    "# CAR PRICE CLASSIFICATION"
   ]
  },
  {
   "cell_type": "code",
   "execution_count": 33,
   "metadata": {},
   "outputs": [],
   "source": [
    "import pandas as pd\n",
    "import numpy as np\n",
    "import torch\n",
    "from sklearn.preprocessing import StandardScaler"
   ]
  },
  {
   "cell_type": "markdown",
   "metadata": {},
   "source": [
    "**Assigning Features & Labels**"
   ]
  },
  {
   "cell_type": "code",
   "execution_count": 34,
   "metadata": {},
   "outputs": [],
   "source": [
    "dataset = pd.read_csv(\"C:/Users/Admin/Desktop/Coding/Tensorflow/Carprice.csv\")\n",
    "dataset = dataset.drop([\"car_ID\",\"CarName\"], axis=1).dropna()\n",
    "dataset[\"price\"] = dataset[\"price\"]/10000\n",
    "label = dataset[\"price\"]\n",
    "feature = dataset.drop(\"price\",axis=1)\n",
    "feature = pd.get_dummies(feature)\n"
   ]
  },
  {
   "cell_type": "code",
   "execution_count": 35,
   "metadata": {},
   "outputs": [],
   "source": [
    "features = np.array(feature)\n",
    "labels = np.array(label).reshape(-1,1)\n",
    "features = StandardScaler().fit_transform(features)\n",
    "features = torch.tensor(features, dtype = torch.float32)\n",
    "labels = torch.tensor(labels,dtype = torch.float32)"
   ]
  },
  {
   "cell_type": "code",
   "execution_count": 36,
   "metadata": {},
   "outputs": [],
   "source": [
    "model = torch.nn.Linear(52,1)\n",
    "preds=model(features)\n"
   ]
  },
  {
   "cell_type": "markdown",
   "metadata": {},
   "source": [
    "*Predicting the Weight & bias*"
   ]
  },
  {
   "cell_type": "code",
   "execution_count": 37,
   "metadata": {},
   "outputs": [
    {
     "name": "stdout",
     "output_type": "stream",
     "text": [
      "tensor(2.3785, grad_fn=<MseLossBackward0>)\n",
      "tensor([[-0.3694,  0.0039, -0.2620, -0.4496,  0.4202, -0.4852, -0.8978, -0.2618,\n",
      "          0.0615,  0.5439, -0.9662, -0.5338,  0.7931,  0.6977,  0.5945, -0.5945,\n",
      "         -0.5423,  0.5423,  0.3592, -0.3592, -0.2773, -0.5799,  0.0519,  0.1176,\n",
      "          0.2314,  0.2541,  0.3580, -0.4730,  1.0018, -1.0018, -0.0353, -0.0606,\n",
      "          0.5471,  0.2856, -0.2237, -0.5366, -0.3965, -0.4730, -0.2627,  1.1089,\n",
      "         -0.8188,  0.2279, -0.4051, -0.3965, -0.1083,  0.2738, -0.3845,  0.5945,\n",
      "          0.1684, -0.5623,  0.1238,  0.1340]])\n",
      "tensor([-2.5501])\n"
     ]
    }
   ],
   "source": [
    "from torch.nn.functional import mse_loss\n",
    "\n",
    "loss  = mse_loss(preds, labels)\n",
    "print(loss)\n",
    "\n",
    "loss.backward()\n",
    "\n",
    "print(model.weight.grad)\n",
    "print(model.bias.grad)"
   ]
  },
  {
   "cell_type": "code",
   "execution_count": 38,
   "metadata": {},
   "outputs": [
    {
     "name": "stdout",
     "output_type": "stream",
     "text": [
      "tensor(2.3589, grad_fn=<MseLossBackward0>)\n"
     ]
    }
   ],
   "source": [
    "optimizer = torch.optim.SGD(model.parameters(), lr=1e-3)\n",
    "\n",
    "optimizer.step()\n",
    "optimizer.zero_grad()\n",
    "\n",
    "preds = model(features)\n",
    "loss = mse_loss(preds, labels)\n",
    "print(loss)"
   ]
  },
  {
   "cell_type": "markdown",
   "metadata": {},
   "source": [
    "## Training Loop"
   ]
  },
  {
   "cell_type": "code",
   "execution_count": 39,
   "metadata": {},
   "outputs": [
    {
     "name": "stdout",
     "output_type": "stream",
     "text": [
      "tensor(0.0892, grad_fn=<MseLossBackward0>)\n",
      "tensor(0.0505, grad_fn=<MseLossBackward0>)\n",
      "tensor(0.0464, grad_fn=<MseLossBackward0>)\n",
      "tensor(0.0445, grad_fn=<MseLossBackward0>)\n",
      "tensor(0.0434, grad_fn=<MseLossBackward0>)\n",
      "tensor(0.0426, grad_fn=<MseLossBackward0>)\n",
      "tensor(0.0420, grad_fn=<MseLossBackward0>)\n",
      "tensor(0.0416, grad_fn=<MseLossBackward0>)\n"
     ]
    }
   ],
   "source": [
    "epochs = 15000\n",
    "for epoch in range(epochs):\n",
    "    preds = model(features)\n",
    "    loss = mse_loss(preds, labels)\n",
    "    \n",
    "    if (epoch+1)%1000 == 0:\n",
    "        print(loss)\n",
    "\n",
    "    loss.backward()\n",
    "    \n",
    "    optimizer.step()\n",
    "    optimizer.zero_grad()\n"
   ]
  },
  {
   "cell_type": "markdown",
   "metadata": {},
   "source": [
    "### Result"
   ]
  },
  {
   "cell_type": "code",
   "execution_count": null,
   "metadata": {},
   "outputs": [
    {
     "name": "stdout",
     "output_type": "stream",
     "text": [
      "tensor([10280.1768], grad_fn=<MulBackward0>) tensor([9279.])\n"
     ]
    }
   ],
   "source": [
    "x = 87\n",
    "preds = model(features[x])\n",
    "print(preds*10000,labels[x]*10000)"
   ]
  }
 ],
 "metadata": {
  "kernelspec": {
   "display_name": "Python 3.10.4 64-bit",
   "language": "python",
   "name": "python3"
  },
  "language_info": {
   "codemirror_mode": {
    "name": "ipython",
    "version": 3
   },
   "file_extension": ".py",
   "mimetype": "text/x-python",
   "name": "python",
   "nbconvert_exporter": "python",
   "pygments_lexer": "ipython3",
   "version": "3.10.4"
  },
  "orig_nbformat": 4,
  "vscode": {
   "interpreter": {
    "hash": "a42ccb73e7d9bfdf27e036f1d2b8b681e55fc0743cc5586bc2474d4a60f4b886"
   }
  }
 },
 "nbformat": 4,
 "nbformat_minor": 2
}
