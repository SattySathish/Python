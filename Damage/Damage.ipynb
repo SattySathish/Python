{
 "cells": [
  {
   "cell_type": "markdown",
   "metadata": {},
   "source": [
    "# DAMAGE MULTI CLASSIFICATION"
   ]
  },
  {
   "cell_type": "code",
   "execution_count": 23,
   "metadata": {},
   "outputs": [],
   "source": [
    "import numpy as np\n",
    "import pandas as pd\n",
    "from sklearn.preprocessing import StandardScaler as ss\n",
    "from sklearn.utils import shuffle\n",
    "import torch"
   ]
  },
  {
   "cell_type": "code",
   "execution_count": 24,
   "metadata": {},
   "outputs": [
    {
     "name": "stderr",
     "output_type": "stream",
     "text": [
      "C:\\Users\\Admin\\AppData\\Local\\Temp\\ipykernel_1888\\2382059404.py:1: DtypeWarning: Columns (5,17,29,34,35,36,37,38,39,40,41,42,43,47,50) have mixed types. Specify dtype option on import or set low_memory=False.\n",
      "  data = pd.read_csv(\"C:/Users/Admin/Desktop/Coding/Tensorflow/csv_building_damage_assessment.csv\",na_values = [\"None\",\" \",\"nan\",\"\\n\"])\n"
     ]
    }
   ],
   "source": [
    "data = pd.read_csv(\"C:/Users/Admin/Desktop/Coding/Tensorflow/csv_building_damage_assessment.csv\",na_values = [\"None\",\" \",\"nan\",\"\\n\"])\n",
    "data = data.drop([\"building_id\",\"district_id\",\"vdcmun_id\",\"ward_id\"],axis = 1)\n",
    "for column in data.columns:\n",
    "    if data[column].count() <250000:\n",
    "        data = data.drop(column,axis = 1)\n",
    "        \n",
    "data = data.dropna()"
   ]
  },
  {
   "cell_type": "markdown",
   "metadata": {},
   "source": [
    "## Assigning Features & Labels"
   ]
  },
  {
   "cell_type": "code",
   "execution_count": 25,
   "metadata": {},
   "outputs": [],
   "source": [
    "features = pd.get_dummies(data) \n",
    "labels = data[\"damage_grade\"]\n",
    "classes = labels.unique()\n",
    "labels = pd.get_dummies(labels)\n"
   ]
  },
  {
   "cell_type": "code",
   "execution_count": 26,
   "metadata": {},
   "outputs": [
    {
     "name": "stdout",
     "output_type": "stream",
     "text": [
      "torch.Size([36017, 35]) torch.Size([36017, 5])\n"
     ]
    }
   ],
   "source": [
    "features = np.array(features)\n",
    "labels = np.array(labels)\n",
    "features = ss().fit_transform(features)\n",
    "features = torch.tensor(features, dtype=torch.float32)\n",
    "labels = torch.tensor(labels, dtype=torch.float32)\n",
    "print(features.shape,labels.shape)"
   ]
  },
  {
   "cell_type": "code",
   "execution_count": 27,
   "metadata": {},
   "outputs": [],
   "source": [
    "train_features = features[:30000]\n",
    "train_labels = labels[:30000]\n",
    "test_features = features[30000:]\n",
    "test_labels = labels[30000:]"
   ]
  },
  {
   "cell_type": "markdown",
   "metadata": {},
   "source": [
    "## Using DataLoader & TensorDataset"
   ]
  },
  {
   "cell_type": "code",
   "execution_count": 28,
   "metadata": {},
   "outputs": [],
   "source": [
    "from torch.utils.data import DataLoader, TensorDataset\n",
    "\n",
    "data = TensorDataset(train_features,train_labels)\n",
    "BATCH_SIZE = 1000\n",
    "dataloader = DataLoader(data,batch_size=BATCH_SIZE, shuffle=True)\n"
   ]
  },
  {
   "cell_type": "markdown",
   "metadata": {},
   "source": [
    "### Using LeakyRelu & Softmax"
   ]
  },
  {
   "cell_type": "code",
   "execution_count": 29,
   "metadata": {},
   "outputs": [],
   "source": [
    "model = torch.nn.Sequential(\n",
    "    torch.nn.Linear(35,60),\n",
    "    torch.nn.LeakyReLU(),\n",
    "    torch.nn.Linear(60,70),\n",
    "    torch.nn.ReLU(),\n",
    "    torch.nn.Linear(70,30),\n",
    "    torch.nn.ReLU(),\n",
    "    torch.nn.Linear(30,5), \n",
    "    torch.nn.Softmax(dim=-1) \n",
    ")"
   ]
  },
  {
   "cell_type": "code",
   "execution_count": 30,
   "metadata": {},
   "outputs": [],
   "source": [
    "loss_fn = torch.nn.BCELoss()\n",
    "opt = torch.optim.Adam(model.parameters(), lr=0.001)\n",
    "history = []"
   ]
  },
  {
   "cell_type": "code",
   "execution_count": 31,
   "metadata": {},
   "outputs": [],
   "source": [
    "from torch import no_grad\n",
    "epochs = 0\n",
    "for epoch in range(epochs):\n",
    "    for features,labels in dataloader:\n",
    "        preds = model(train_features)\n",
    "        loss = loss_fn(preds,train_labels)\n",
    "\n",
    "        loss.backward()\n",
    "        opt.step()\n",
    "        opt.zero_grad()\n",
    "\n",
    "    with torch.no_grad():\n",
    "        if (epoch+1)%(epochs//10) == 0:\n",
    "            right = 0\n",
    "            preds = model(test_features)\n",
    "            for i in range(len(preds)):\n",
    "                for j in range(len(preds[i])):\n",
    "                        \n",
    "                        if preds[i][j]==max(preds[i]):\n",
    "                            if(test_labels[i][j]==1):\n",
    "                                right+=1\n",
    "                                print(test_labels[i],preds[i])\n",
    "                \n",
    "            Acc = round((right*100/len(test_labels)),5)\n",
    "            history.append(Acc)\n",
    "            print(\"Accuracy :\",Acc)\n",
    "        "
   ]
  },
  {
   "cell_type": "markdown",
   "metadata": {},
   "source": [
    "*Saving Weight & Bias*"
   ]
  },
  {
   "cell_type": "code",
   "execution_count": 32,
   "metadata": {},
   "outputs": [],
   "source": [
    "# torch.save(model.state_dict(),\"damage.pth\")\n"
   ]
  },
  {
   "cell_type": "code",
   "execution_count": 33,
   "metadata": {},
   "outputs": [
    {
     "data": {
      "text/plain": [
       "<All keys matched successfully>"
      ]
     },
     "execution_count": 33,
     "metadata": {},
     "output_type": "execute_result"
    }
   ],
   "source": [
    "model.load_state_dict(torch.load(\"damage.pth\"))"
   ]
  },
  {
   "cell_type": "markdown",
   "metadata": {},
   "source": [
    "**Result**"
   ]
  },
  {
   "cell_type": "code",
   "execution_count": 34,
   "metadata": {},
   "outputs": [
    {
     "name": "stdout",
     "output_type": "stream",
     "text": [
      "Pred : Grade 1, Actual : Grade 1\n"
     ]
    }
   ],
   "source": [
    "index = 999\n",
    "pred = model(test_features[index])\n",
    "pred_i = torch.where(pred == pred.max())\n",
    "real_i = torch.where(test_labels[index] == 1)\n",
    "\n",
    "print(f\"Pred : {classes[pred_i]}, Actual : {classes[real_i]}\")"
   ]
  }
 ],
 "metadata": {
  "kernelspec": {
   "display_name": "Python 3.10.4 64-bit",
   "language": "python",
   "name": "python3"
  },
  "language_info": {
   "codemirror_mode": {
    "name": "ipython",
    "version": 3
   },
   "file_extension": ".py",
   "mimetype": "text/x-python",
   "name": "python",
   "nbconvert_exporter": "python",
   "pygments_lexer": "ipython3",
   "version": "3.10.4"
  },
  "orig_nbformat": 4,
  "vscode": {
   "interpreter": {
    "hash": "a42ccb73e7d9bfdf27e036f1d2b8b681e55fc0743cc5586bc2474d4a60f4b886"
   }
  }
 },
 "nbformat": 4,
 "nbformat_minor": 2
}
