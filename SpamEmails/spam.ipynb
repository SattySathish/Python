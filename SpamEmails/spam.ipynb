{
 "cells": [
  {
   "cell_type": "code",
   "execution_count": 1,
   "metadata": {},
   "outputs": [],
   "source": [
    "import numpy as np\n",
    "import pandas as pd\n",
    "from sklearn.preprocessing import StandardScaler as ss\n",
    "from sklearn.utils import shuffle\n",
    "import torch"
   ]
  },
  {
   "cell_type": "code",
   "execution_count": 2,
   "metadata": {},
   "outputs": [],
   "source": [
    "data = pd.read_csv(\"C:/Users/Admin/Desktop/Coding/Tensorflow/spambase_csv.csv\")\n",
    "feature = shuffle(data)\n",
    "label = feature.pop(\"class\")"
   ]
  },
  {
   "cell_type": "code",
   "execution_count": 3,
   "metadata": {},
   "outputs": [],
   "source": [
    "features = np.array(feature)\n",
    "labels = np.array(label).reshape(-1,1)"
   ]
  },
  {
   "cell_type": "code",
   "execution_count": 4,
   "metadata": {},
   "outputs": [
    {
     "name": "stderr",
     "output_type": "stream",
     "text": [
      "C:\\Users\\Admin\\AppData\\Local\\Temp\\ipykernel_1116\\2559730351.py:3: UserWarning: Failed to initialize NumPy: module compiled against API version 0x10 but this version of numpy is 0xf (Triggered internally at  ..\\torch\\csrc\\utils\\tensor_numpy.cpp:68.)\n",
      "  features = torch.tensor(features, dtype=torch.float32)\n"
     ]
    }
   ],
   "source": [
    "features = ss().fit_transform(features)\n",
    "features[0]\n",
    "features = torch.tensor(features, dtype=torch.float32)\n",
    "labels = torch.tensor(labels, dtype=torch.float32)"
   ]
  },
  {
   "cell_type": "code",
   "execution_count": 5,
   "metadata": {},
   "outputs": [],
   "source": [
    "model = torch.nn.Sequential(\n",
    "    torch.nn.Linear(57,12),\n",
    "    torch.nn.ReLU(),\n",
    "    torch.nn.Linear(12,10),\n",
    "    torch.nn.ReLU(),\n",
    "    torch.nn.Linear(10,1),\n",
    "    torch.nn.Sigmoid()\n",
    ")"
   ]
  },
  {
   "cell_type": "code",
   "execution_count": 6,
   "metadata": {},
   "outputs": [],
   "source": [
    "loss_fn = torch.nn.BCELoss()\n",
    "opt = torch.optim.SGD(model.parameters(), lr=0.01)"
   ]
  },
  {
   "cell_type": "code",
   "execution_count": 7,
   "metadata": {},
   "outputs": [
    {
     "name": "stdout",
     "output_type": "stream",
     "text": [
      "Loss : 0.48025113344192505\n",
      "Accuracy : 86.1%\n",
      "Loss : 0.30705928802490234\n",
      "Accuracy : 91.6%\n",
      "Loss : 0.2510251998901367\n",
      "Accuracy : 92.7%\n",
      "Loss : 0.2199988067150116\n",
      "Accuracy : 93.3%\n",
      "Loss : 0.19944772124290466\n",
      "Accuracy : 93.8%\n",
      "Loss : 0.1849217265844345\n",
      "Accuracy : 94.3%\n",
      "Loss : 0.17320121824741364\n",
      "Accuracy : 94.4%\n",
      "Loss : 0.16223670542240143\n",
      "Accuracy : 94.4%\n",
      "Loss : 0.15478171408176422\n",
      "Accuracy : 94.6%\n",
      "Loss : 0.1486579179763794\n",
      "Accuracy : 94.8%\n"
     ]
    }
   ],
   "source": [
    "epochs = 10000\n",
    "\n",
    "for epoch in range(epochs):\n",
    "    preds = model(features)\n",
    "    loss = loss_fn(preds, labels)\n",
    "\n",
    "    loss.backward()\n",
    "\n",
    "    opt.step()\n",
    "    opt.zero_grad()\n",
    "\n",
    "    with torch.no_grad():\n",
    "        if (epoch+1)%(epochs//10) == 0:\n",
    "            right = 0\n",
    "            for i in range(len(preds)):\n",
    "                if preds[i][0] >= 0.5:\n",
    "                    preds[i][0] = 1\n",
    "                else:\n",
    "                    preds[i][0] = 0\n",
    "\n",
    "                if preds[i][0] == labels[i][0]:\n",
    "                    right += 1\n",
    "\n",
    "\n",
    "            print(f\"Loss : {loss}\")\n",
    "            print(f\"Accuracy : {round(right * 100/ len(preds), 1)}%\")\n"
   ]
  },
  {
   "cell_type": "code",
   "execution_count": 8,
   "metadata": {},
   "outputs": [],
   "source": [
    "torch.save(model.state_dict(),\"spam_weights.pth\")"
   ]
  }
 ],
 "metadata": {
  "kernelspec": {
   "display_name": "Python 3.10.4 64-bit",
   "language": "python",
   "name": "python3"
  },
  "language_info": {
   "codemirror_mode": {
    "name": "ipython",
    "version": 3
   },
   "file_extension": ".py",
   "mimetype": "text/x-python",
   "name": "python",
   "nbconvert_exporter": "python",
   "pygments_lexer": "ipython3",
   "version": "3.10.4"
  },
  "orig_nbformat": 4,
  "vscode": {
   "interpreter": {
    "hash": "a42ccb73e7d9bfdf27e036f1d2b8b681e55fc0743cc5586bc2474d4a60f4b886"
   }
  }
 },
 "nbformat": 4,
 "nbformat_minor": 2
}
