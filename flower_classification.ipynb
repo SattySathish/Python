{
 "cells": [
  {
   "cell_type": "code",
   "execution_count": 1,
   "metadata": {},
   "outputs": [],
   "source": [
    "import torch\n",
    "import pandas as pd\n",
    "import numpy as np\n",
    "from sklearn.preprocessing import StandardScaler as ss\n",
    "from sklearn.utils import shuffle"
   ]
  },
  {
   "cell_type": "code",
   "execution_count": 2,
   "metadata": {},
   "outputs": [
    {
     "name": "stdout",
     "output_type": "stream",
     "text": [
      "['Iris-setosa' 'Iris-versicolor' 'Iris-virginica']\n"
     ]
    }
   ],
   "source": [
    "data = pd.read_csv(\"C:/Users/Admin/Desktop/Coding/Tensorflow/iris.csv\")\n",
    "data = data.drop([\"Id\"], axis=1)\n",
    "\n",
    "un_labels = data[\"Species\"].unique()\n",
    "data = shuffle(data)\n",
    "labels = data.pop(\"Species\")\n",
    "labels = np.array(labels)\n",
    "\n",
    "data = ss().fit_transform(data)\n",
    "print(un_labels)"
   ]
  },
  {
   "cell_type": "code",
   "execution_count": 3,
   "metadata": {},
   "outputs": [],
   "source": [
    "ohe_labels = np.zeros((len(labels), len(un_labels)))\n",
    "\n",
    "for i in range(len(un_labels)):\n",
    "    x = np.where(labels == un_labels[i])\n",
    "    ohe_labels[x,i] = 1\n"
   ]
  },
  {
   "cell_type": "code",
   "execution_count": 4,
   "metadata": {},
   "outputs": [
    {
     "name": "stderr",
     "output_type": "stream",
     "text": [
      "C:\\Users\\Admin\\AppData\\Local\\Temp\\ipykernel_15024\\306228002.py:1: UserWarning: Failed to initialize NumPy: module compiled against API version 0x10 but this version of numpy is 0xf (Triggered internally at  ..\\torch\\csrc\\utils\\tensor_numpy.cpp:68.)\n",
      "  features = torch.tensor(np.array(data), dtype=torch.float32)\n"
     ]
    }
   ],
   "source": [
    "features = torch.tensor(np.array(data), dtype=torch.float32)\n",
    "labels = torch.tensor(ohe_labels, dtype=torch.float32)"
   ]
  },
  {
   "cell_type": "code",
   "execution_count": 5,
   "metadata": {},
   "outputs": [],
   "source": [
    "model = torch.nn.Sequential(\n",
    "    torch.nn.Linear(4,8),\n",
    "    torch.nn.ReLU(),\n",
    "    torch.nn.Linear(8,3),\n",
    "    torch.nn.Softmax(dim=-1)\n",
    ")\n",
    "\n",
    "preds = model(features)"
   ]
  },
  {
   "cell_type": "code",
   "execution_count": 6,
   "metadata": {},
   "outputs": [
    {
     "name": "stdout",
     "output_type": "stream",
     "text": [
      "tensor(0.6527, grad_fn=<BinaryCrossEntropyBackward0>)\n"
     ]
    }
   ],
   "source": [
    "loss_fn = torch.nn.BCELoss()\n",
    "\n",
    "loss = loss_fn(preds, labels)\n",
    "print(loss)"
   ]
  },
  {
   "cell_type": "code",
   "execution_count": 19,
   "metadata": {},
   "outputs": [
    {
     "name": "stdout",
     "output_type": "stream",
     "text": [
      "Loss : 0.02646808698773384\n",
      "Accuracy : 98.7%\n",
      "Loss : 0.02646240033209324\n",
      "Accuracy : 98.7%\n",
      "Loss : 0.026456736028194427\n",
      "Accuracy : 98.7%\n",
      "Loss : 0.026451051235198975\n",
      "Accuracy : 98.7%\n",
      "Loss : 0.026445362716913223\n",
      "Accuracy : 98.7%\n",
      "Loss : 0.02643967606127262\n",
      "Accuracy : 98.7%\n",
      "Loss : 0.0264340341091156\n",
      "Accuracy : 98.7%\n",
      "Loss : 0.02642841264605522\n",
      "Accuracy : 98.7%\n",
      "Loss : 0.02642277628183365\n",
      "Accuracy : 98.7%\n",
      "Loss : 0.02641713246703148\n",
      "Accuracy : 98.7%\n"
     ]
    }
   ],
   "source": [
    "from torch import tensor\n",
    "\n",
    "\n",
    "opt = torch.optim.SGD(model.parameters(), lr=0.01)\n",
    "epochs = 10000\n",
    "\n",
    "for epoch in range(epochs):\n",
    "    preds = model(features)\n",
    "    loss = loss_fn(preds, labels)\n",
    "\n",
    "    loss.backward()\n",
    "\n",
    "    opt.step()\n",
    "    opt.zero_grad()\n",
    "\n",
    "    with torch.no_grad():\n",
    "        if (epoch+1)%(epochs//10) == 0:\n",
    "            level = 0\n",
    "            for i in range(len(preds)):\n",
    "                preds_index = torch.where(preds[i] == preds[i].max())\n",
    "                if (ohe_labels[i][preds_index]) ==1:\n",
    "                    level += 1\n",
    "\n",
    "            print(f\"Loss : {loss}\")\n",
    "            print(f\"Accuracy : {round(level * 100/ len(preds), 1)}%\")\n",
    "\n"
   ]
  }
 ],
 "metadata": {
  "kernelspec": {
   "display_name": "Python 3.10.4 64-bit",
   "language": "python",
   "name": "python3"
  },
  "language_info": {
   "codemirror_mode": {
    "name": "ipython",
    "version": 3
   },
   "file_extension": ".py",
   "mimetype": "text/x-python",
   "name": "python",
   "nbconvert_exporter": "python",
   "pygments_lexer": "ipython3",
   "version": "3.10.4"
  },
  "orig_nbformat": 4,
  "vscode": {
   "interpreter": {
    "hash": "a42ccb73e7d9bfdf27e036f1d2b8b681e55fc0743cc5586bc2474d4a60f4b886"
   }
  }
 },
 "nbformat": 4,
 "nbformat_minor": 2
}
