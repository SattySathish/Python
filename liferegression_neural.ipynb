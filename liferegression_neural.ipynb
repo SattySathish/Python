{
 "cells": [
  {
   "cell_type": "code",
   "execution_count": 1,
   "metadata": {},
   "outputs": [],
   "source": [
    "import pandas as pd\n",
    "import numpy as np\n",
    "import torch\n",
    "from sklearn.preprocessing import StandardScaler\n",
    "from torch.nn.functional import mse_loss"
   ]
  },
  {
   "cell_type": "code",
   "execution_count": 2,
   "metadata": {},
   "outputs": [],
   "source": [
    "dataset = pd.read_csv(\"C:/Users/Admin/Desktop/Coding/Tensorflow/lifedata.csv\")\n",
    "dataset = dataset.drop([\"Country\",\"Year\"], axis=1).dropna()\n",
    "\n",
    "dataset = dataset.dropna(axis=0)\n",
    "dataset[\"Population\"] = dataset[\"Population\"]/10000000\n",
    "dataset[\"GDP\"] = dataset[\"GDP\"]/10000\n",
    "label = dataset[\"Life\"]\n",
    "feature = dataset.drop(\"Life\",axis=1)\n",
    "feature = pd.get_dummies(feature)"
   ]
  },
  {
   "cell_type": "code",
   "execution_count": 3,
   "metadata": {},
   "outputs": [
    {
     "name": "stdout",
     "output_type": "stream",
     "text": [
      "torch.Size([1649, 20]) torch.Size([1649, 1])\n"
     ]
    },
    {
     "name": "stderr",
     "output_type": "stream",
     "text": [
      "C:\\Users\\Admin\\AppData\\Local\\Temp\\ipykernel_9340\\1724183345.py:4: UserWarning: Failed to initialize NumPy: module compiled against API version 0x10 but this version of numpy is 0xf (Triggered internally at  ..\\torch\\csrc\\utils\\tensor_numpy.cpp:68.)\n",
      "  features = torch.tensor(features, dtype = torch.float32)\n"
     ]
    }
   ],
   "source": [
    "features = np.array(feature)\n",
    "labels = np.array(label).reshape(-1,1)\n",
    "features = StandardScaler().fit_transform(features)\n",
    "features = torch.tensor(features, dtype = torch.float32)\n",
    "labels = torch.tensor(labels,dtype = torch.float32)\n",
    "print(features.shape, labels.shape)"
   ]
  },
  {
   "cell_type": "code",
   "execution_count": 4,
   "metadata": {},
   "outputs": [
    {
     "name": "stdout",
     "output_type": "stream",
     "text": [
      "torch.Size([1649, 1])\n",
      "tensor([[0.2113],\n",
      "        [0.2099],\n",
      "        [0.2107],\n",
      "        ...,\n",
      "        [0.0719],\n",
      "        [0.1522],\n",
      "        [0.1531]], grad_fn=<AddmmBackward0>)\n"
     ]
    }
   ],
   "source": [
    "model = torch.nn.Sequential(\n",
    "    torch.nn.Linear(20,10),\n",
    "    torch.nn.LeakyReLU(), # activation functions\n",
    "    torch.nn.Linear(10,6),\n",
    "    torch.nn.ReLU(),\n",
    "    torch.nn.Linear(6,9),\n",
    "    torch.nn.ReLU(),\n",
    "    torch.nn.Linear(9,1)\n",
    ")\n",
    "\n",
    "preds = model(features)\n",
    "print(preds.shape)\n",
    "\n",
    "print(preds)\n"
   ]
  },
  {
   "cell_type": "code",
   "execution_count": 5,
   "metadata": {},
   "outputs": [
    {
     "data": {
      "text/plain": [
       "tensor(4852.8594, grad_fn=<MseLossBackward0>)"
      ]
     },
     "execution_count": 5,
     "metadata": {},
     "output_type": "execute_result"
    }
   ],
   "source": [
    "loss = mse_loss(preds, labels)\n",
    "loss"
   ]
  },
  {
   "cell_type": "code",
   "execution_count": 6,
   "metadata": {},
   "outputs": [],
   "source": [
    "optimizer = torch.optim.SGD(model.parameters(), lr=0.001)\n"
   ]
  },
  {
   "cell_type": "code",
   "execution_count": 11,
   "metadata": {},
   "outputs": [
    {
     "name": "stdout",
     "output_type": "stream",
     "text": [
      "tensor(3.4838, grad_fn=<MseLossBackward0>)\n",
      "tensor(3.5900, grad_fn=<MseLossBackward0>)\n",
      "tensor(3.5542, grad_fn=<MseLossBackward0>)\n",
      "tensor(3.6050, grad_fn=<MseLossBackward0>)\n",
      "tensor(3.6274, grad_fn=<MseLossBackward0>)\n",
      "tensor(3.5709, grad_fn=<MseLossBackward0>)\n",
      "tensor(3.5447, grad_fn=<MseLossBackward0>)\n",
      "tensor(3.5496, grad_fn=<MseLossBackward0>)\n",
      "tensor(3.5359, grad_fn=<MseLossBackward0>)\n",
      "tensor(3.4935, grad_fn=<MseLossBackward0>)\n"
     ]
    }
   ],
   "source": [
    "epochs = 10000\n",
    "for epoch in range(epochs):\n",
    "    preds = model(features)\n",
    "    loss = mse_loss(preds, labels)\n",
    "    \n",
    "    if (epoch+1)%(epochs//10) == 0:\n",
    "        print(loss)\n",
    "\n",
    "    loss.backward()\n",
    "    \n",
    "    optimizer.step()\n",
    "    optimizer.zero_grad()"
   ]
  },
  {
   "cell_type": "code",
   "execution_count": 16,
   "metadata": {},
   "outputs": [
    {
     "name": "stdout",
     "output_type": "stream",
     "text": [
      "tensor([73.4052], grad_fn=<AddBackward0>) tensor([73.8000])\n"
     ]
    }
   ],
   "source": [
    "x = 1399\n",
    "preds = model(features[x])\n",
    "print(preds,labels[x])"
   ]
  }
 ],
 "metadata": {
  "kernelspec": {
   "display_name": "Python 3.10.4 64-bit",
   "language": "python",
   "name": "python3"
  },
  "language_info": {
   "codemirror_mode": {
    "name": "ipython",
    "version": 3
   },
   "file_extension": ".py",
   "mimetype": "text/x-python",
   "name": "python",
   "nbconvert_exporter": "python",
   "pygments_lexer": "ipython3",
   "version": "3.10.4"
  },
  "orig_nbformat": 4,
  "vscode": {
   "interpreter": {
    "hash": "a42ccb73e7d9bfdf27e036f1d2b8b681e55fc0743cc5586bc2474d4a60f4b886"
   }
  }
 },
 "nbformat": 4,
 "nbformat_minor": 2
}
