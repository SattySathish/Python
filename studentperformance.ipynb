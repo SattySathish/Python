{
 "cells": [
  {
   "cell_type": "code",
   "execution_count": null,
   "metadata": {},
   "outputs": [],
   "source": [
    "import torch\n",
    "import pandas as pd\n",
    "import numpy as np\n",
    "from sklearn.preprocessing import StandardScaler as ss\n",
    "from sklearn.utils import shuffle"
   ]
  },
  {
   "cell_type": "code",
   "execution_count": null,
   "metadata": {},
   "outputs": [],
   "source": [
    "data = pd.read_csv(\"C:/Users/Admin/Desktop/Coding/Tensorflow/StudentsPerformance.csv\")\n",
    "\n",
    "data = shuffle(data)\n",
    "\n",
    "feature = data.drop([\"gender\"],axis=1)\n",
    "feature = pd.get_dummies(feature)\n",
    "\n",
    "label = data[\"gender\"]\n",
    "classes = label.unique()\n",
    "label = pd.get_dummies(label)\n"
   ]
  },
  {
   "cell_type": "code",
   "execution_count": null,
   "metadata": {},
   "outputs": [],
   "source": [
    "features = np.array(feature)\n",
    "labels = np.array(label)"
   ]
  },
  {
   "cell_type": "code",
   "execution_count": null,
   "metadata": {},
   "outputs": [],
   "source": [
    "features = ss().fit_transform(features)\n",
    "features[0]\n",
    "features = torch.tensor(features, dtype=torch.float32)\n",
    "labels = torch.tensor(labels, dtype=torch.float32)\n",
    "labels.shape"
   ]
  },
  {
   "cell_type": "code",
   "execution_count": null,
   "metadata": {},
   "outputs": [],
   "source": [
    "model = torch.nn.Sequential(\n",
    "    torch.nn.Linear(18,10),\n",
    "    torch.nn.LeakyReLU(),\n",
    "    torch.nn.Linear(10,8),\n",
    "    torch.nn.ReLU(),\n",
    "    torch.nn.Linear(8,2),\n",
    "    torch.nn.Softmax(dim=-1)\n",
    ")\n"
   ]
  },
  {
   "cell_type": "code",
   "execution_count": null,
   "metadata": {},
   "outputs": [],
   "source": [
    "loss_fn = torch.nn.BCELoss()\n",
    "opt = torch.optim.SGD(model.parameters(), lr=0.01)"
   ]
  },
  {
   "cell_type": "code",
   "execution_count": null,
   "metadata": {},
   "outputs": [],
   "source": [
    "epochs = 0\n",
    "\n",
    "for epoch in range(epochs):\n",
    "    preds = model(features)\n",
    "    loss = loss_fn(preds, labels)\n",
    "\n",
    "    loss.backward()\n",
    "\n",
    "    opt.step()\n",
    "    opt.zero_grad()\n",
    "\n",
    "    with torch.no_grad():\n",
    "        if (epoch+1)%(epochs//10) == 0:\n",
    "            right = 0\n",
    "\n",
    "            for i in range(len(preds)):\n",
    "                j = torch.where(preds[i]==preds[i].max())\n",
    "                try:\n",
    "                    if labels[i][j] == 1:\n",
    "                        right += 1\n",
    "                except:\n",
    "                    right+=1\n",
    "\n",
    "            print(f\"Loss : {loss}\")\n",
    "            print(f\"Accuracy : {round(right * 100/ len(preds), 1)}%\")"
   ]
  },
  {
   "cell_type": "code",
   "execution_count": null,
   "metadata": {},
   "outputs": [],
   "source": [
    "# torch.save(model.state_dict(),\"students_weights.pth\")"
   ]
  },
  {
   "cell_type": "code",
   "execution_count": null,
   "metadata": {},
   "outputs": [],
   "source": [
    "model.load_state_dict(torch.load(\"students_weights.pth\"))\n"
   ]
  },
  {
   "cell_type": "code",
   "execution_count": null,
   "metadata": {},
   "outputs": [],
   "source": [
    "preds = model(features)\n",
    "right = 0\n",
    "for i in range(len(preds)):\n",
    "    j = torch.where(preds[i]==preds[i].max())\n",
    "    try:\n",
    "        if labels[i][j] == 1:\n",
    "            right += 1\n",
    "    except:\n",
    "            right+=1\n",
    "\n",
    "            \n",
    "print(f\"Accuracy : {round(right * 100/ len(preds), 1)}%\")"
   ]
  },
  {
   "cell_type": "code",
   "execution_count": null,
   "metadata": {},
   "outputs": [],
   "source": [
    "index = 121\n",
    "pred = model(features[index])\n",
    "pred_i = torch.where(pred == pred.max())\n",
    "real_i = torch.where(labels[index] == 1)\n",
    "\n",
    "print(pred, pred_i)\n",
    "\n",
    "print(f\"Pred : {classes[pred_i]}, Actual : {classes[real_i]}\")"
   ]
  }
 ],
 "metadata": {
  "kernelspec": {
   "display_name": "Python 3.10.4 64-bit",
   "language": "python",
   "name": "python3"
  },
  "language_info": {
   "codemirror_mode": {
    "name": "ipython",
    "version": 3
   },
   "file_extension": ".py",
   "mimetype": "text/x-python",
   "name": "python",
   "nbconvert_exporter": "python",
   "pygments_lexer": "ipython3",
   "version": "3.10.4"
  },
  "orig_nbformat": 4,
  "vscode": {
   "interpreter": {
    "hash": "a42ccb73e7d9bfdf27e036f1d2b8b681e55fc0743cc5586bc2474d4a60f4b886"
   }
  }
 },
 "nbformat": 4,
 "nbformat_minor": 2
}
